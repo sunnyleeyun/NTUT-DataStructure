{
 "cells": [
  {
   "cell_type": "markdown",
   "metadata": {},
   "source": [
    "## Data Structures 2021 Fall\n",
    "### Homework 4 \n",
    "### Due: Jan 4, 2022\n",
    "\n",
    "### SID:110054316\n",
    "### Name: 李昀 \n"
   ]
  },
  {
   "cell_type": "markdown",
   "metadata": {},
   "source": [
    "#### Problem 1 \n",
    "The ***size*** of a tree $T$ rooted at $r$ is defined to be the *total number of nodes* in $T$, including $r$. Given a rooted tree $T$ of size $n$, please devise an O($n$) algorithm to compute the size of the subtree rooted at each node. Assume that the degree of $T$ is a constant."
   ]
  },
  {
   "cell_type": "markdown",
   "metadata": {},
   "source": []
  },
  {
   "cell_type": "markdown",
   "metadata": {},
   "source": [
    "#### Problem 2\n",
    "Describe a generalization of the ***Euler tour traversal*** to trees such that each internal node has *three* children. Describe how you could use this traversal to compute the height of each node in such a tree."
   ]
  },
  {
   "cell_type": "markdown",
   "metadata": {},
   "source": []
  },
  {
   "cell_type": "markdown",
   "metadata": {},
   "source": [
    "#### Problem 3\n",
    "Draw the binary tree representation of the following arithmetic expression:\n",
    "$$\n",
    "(((5+2)*(2-1))/((2+9)+((7-2)-1))*8)\n",
    "$$\n",
    "and compute the value of this expression.\n",
    "\n",
    "**Note**:\n",
    "One can use the following way to paste the picture, where the pictures are located at the same directory. So, please include the picture file(s) in your .rar file.\n",
    "<img src=\"test.png\" alt=\"image-20210524110252769\" style=\"zoom:30%;\" />"
   ]
  },
  {
   "cell_type": "markdown",
   "metadata": {},
   "source": []
  },
  {
   "cell_type": "markdown",
   "metadata": {},
   "source": [
    "#### Problem 4\n",
    "A ***$k$-ary*** tree is a tree of which each node has at most $k$ children. What is the maximum number of node is a $k$-ary tree of height $h$? Prove your answer."
   ]
  },
  {
   "cell_type": "markdown",
   "metadata": {},
   "source": []
  },
  {
   "cell_type": "markdown",
   "metadata": {},
   "source": [
    "#### Problem 5\n",
    "The **balance factor** of an internal node $v$ of a proper binary tree is the *difference* between the heights of the right and left subtrees of $v$. Show how to specialize the Euler tour traversal to print the balance factors of all the internal nodes of a proper binary tree."
   ]
  },
  {
   "cell_type": "markdown",
   "metadata": {},
   "source": []
  },
  {
   "cell_type": "markdown",
   "metadata": {},
   "source": [
    "#### Problem 6 -- Programming (Binary Search Trees)\n",
    "In this problem, you need to implement an ***array-based binary search tree*** $T$ with the following associated operations(methods) using Python. We assume that each node is represented by a key value which is an integer. The operations include:\n",
    "1. `insert(x)`: insert a node with key $x$ into $T$.\n",
    "2. `delete(x)`: delete a node with key $x$ from $T$.\n",
    "3. `searchKey(x)`: perform the search process from the root; if the search fails, print `NOT found`; otherwise, print `x is found`.\n",
    "4. `printProperty()`: print out the properties of tree $T$, including the height and size of $T$.\n",
    "5. `preorderTraversal()`: list all the nodes using a preorder traversal.\n",
    "6. `postorderTraversal()`: list all the nodes using a postorder traversal.\n",
    "7. `inorderTraversal()`: list all the nodes using a inorder traversal.\n",
    "The binary search tree will be built or defined as a class, `BinarySearchTree`, and the operations mentioned above are defined as the methods. Of course, you can have other auxiliary methods. Initially, the binary search tree is empty. Your program allows the user to search, insert, and delete a node with a key. Please run `preorderTraversal()`, `postorderTraversal()`, and `inorderTraversal()` for the same binary search tree to see what you can observe.\n",
    "\n",
    "[Python math Module](https://docs.python.org/3/library/math.html)"
   ]
  },
  {
   "cell_type": "code",
   "execution_count": 108,
   "metadata": {},
   "outputs": [],
   "source": [
    "#\n",
    "# This block is for your to write your codes for problem 6.\n",
    "# The requested methods are listed below and you can add \n",
    "# your own variables, functions, and methods\n",
    "#\n",
    "\n",
    "# you may need Python math Module, https://docs.python.org/3/library/math.html\n",
    "import math\n",
    "\n",
    "# class of a Binary Search Tree\n",
    "class BinarySearchTree:\n",
    "    array = [0, 'X']\n",
    "    prev = None\n",
    "    size = 0\n",
    "    height = 0\n",
    "    f = 0\n",
    "    g = 0\n",
    "    \n",
    "\n",
    "    def __init__(self):\n",
    "        self.array = [0, 'X']\n",
    "        self.height = 0\n",
    "        self.size = 0\n",
    "        \n",
    "    # reuqested operation 1\n",
    "    def insert(self, key):\n",
    "        def fillArray(n):\n",
    "            for i in range(n): \n",
    "                self.array.append('X')\n",
    "        \n",
    "        if self.array[1] == 'X':\n",
    "            self.array[1] = key\n",
    "            self.prev = key\n",
    "            self.size += 1\n",
    "            self.height = 0\n",
    "        else:\n",
    "            if key > self.array[1]:\n",
    "                additional = pow(2, self.height)\n",
    "                # 2^h+1 / 2\n",
    "                fillArray(pow(2, self.height)) \n",
    "                \n",
    "                # Append extra Xs before key\n",
    "                if self.g > 0:\n",
    "                    fillArray(pow(2, self.g))\n",
    "                    additional -= pow(2, self.g)\n",
    "                    self.g += 1\n",
    "                \n",
    "                # Append Extra one X\n",
    "                if key > self.prev and self.height > 0: \n",
    "                    fillArray(1)\n",
    "                    self.g += 1\n",
    "                    additional -= 1\n",
    "                \n",
    "                # add key\n",
    "                self.array.append(key)\n",
    "                additional -= 1\n",
    "                \n",
    "                fillArray(additional)\n",
    "                \n",
    "                self.prev = key\n",
    "            else:\n",
    "                additional = pow(2, self.height)\n",
    "                \n",
    "                # Append extra Xs before key\n",
    "                if self.f > 0:\n",
    "                    fillArray(pow(2, self.f))\n",
    "                    additional -= pow(2, self.f)\n",
    "                    self.f += 1\n",
    "                \n",
    "                # Append Extra one X\n",
    "                if key > self.prev and self.height > 0: \n",
    "                    fillArray(1)\n",
    "                    self.f += 1\n",
    "                    additional -= 1\n",
    "                    \n",
    "                # add key\n",
    "                self.array.append(key)\n",
    "                additional -= 1\n",
    "                fillArray(additional)\n",
    "                \n",
    "                # 2^h+1 / 2\n",
    "                fillArray(pow(2, self.height))\n",
    "                \n",
    "                self.prev = key\n",
    "                \n",
    "            self.size += 1\n",
    "            self.height += 1\n",
    "    \n",
    "    \n",
    "            \n",
    "    # reuqested operation 2\n",
    "    def delete(self, key):\n",
    "        if key not in self.array:\n",
    "            print(\"Key  \" + str(key) + \" does not exist\")\n",
    "        else:\n",
    "            curIndex = -1\n",
    "            nextVal = -1\n",
    "            # Find Next Val\n",
    "            for i in range(1, len(self.array)):\n",
    "                v = self.array[i]\n",
    "                if v == key:\n",
    "                    curIndex = i\n",
    "                    continue\n",
    "                if curIndex == -1: continue\n",
    "                if v != \"X\": \n",
    "                    if nextVal == -1:\n",
    "                        nextVal = v\n",
    "                    else:\n",
    "                        if (nextVal > key and v < nextVal) or (nextVal < key and v > nextVal): \n",
    "                            self.array[curIndex] = v\n",
    "                            curIndex = i\n",
    "                            break\n",
    "            \n",
    "            prev = -1\n",
    "            for i in range(len(self.array) - 1, curIndex - 1, -1):\n",
    "                v = self.array[i]\n",
    "                if v != \"X\": \n",
    "                    if prev != -1:\n",
    "                        self.array[i] = prev\n",
    "                    prev = v\n",
    "            self.array = self.array[:len(self.array)-pow(2, self.height)]\n",
    "            \n",
    "            self.size -= 1\n",
    "            self.height -= 1\n",
    "\n",
    "            \n",
    "    # reuqested operation 3\n",
    "    def searchKey(self, key):\n",
    "        isFound = key in self.array\n",
    "        print(\"Key  \" + str(key) + \" is found\") if isFound else print(\"Key  \" + str(key) + \" is NOT found\")\n",
    "\n",
    "    # reuqested operation 4\n",
    "    def printProperty(self):\n",
    "        print(\"The height of T is \" + str(self.height) + \"  and the size of T is \" + str(self.size) + \" .\")\n",
    "              \n",
    "    # reuqested operation 5\n",
    "    def preorderTraversal(self):\n",
    "        val = \"\"\n",
    "        for i in range(1, len(self.array)):\n",
    "            v = self.array[i]\n",
    "            if v != \"X\": val += str(v) + \" \"\n",
    "        additional = \"Tree T is empty\" if self.size == 0 else val\n",
    "        print(\"Preorder of T : \" + additional)\n",
    "        \n",
    "        \n",
    "    # reuqested operation 6\n",
    "    def postorderTraversal(self):\n",
    "        val = \"\"\n",
    "        for i in range(len(self.array) - 1, 0, -1):\n",
    "            v = self.array[i]\n",
    "            if v != \"X\": val += str(v) + \" \"\n",
    "        additional = \"Tree T is empty\" if self.size == 0 else val\n",
    "        print(\"Postorder of T: \" + additional)\n",
    "        \n",
    "    # reuqested operation 7\n",
    "    def inorderTraversal(self):\n",
    "        temp = []\n",
    "        for i in range(1, len(self.array)):\n",
    "            v = self.array[i]\n",
    "            if v != \"X\": temp.append(v)\n",
    "        temp.sort()\n",
    "        val = \" \".join(str(i) for i in temp[:])\n",
    "        additional = \"Tree T is empty\" if self.size == 0 else val\n",
    "        print(\"Inorder of T  : \" + additional)\n",
    "        \n",
    "    \n",
    "    \n",
    "    \n",
    "    "
   ]
  },
  {
   "cell_type": "code",
   "execution_count": null,
   "metadata": {},
   "outputs": [],
   "source": []
  },
  {
   "cell_type": "code",
   "execution_count": 2,
   "metadata": {},
   "outputs": [
    {
     "name": "stdout",
     "output_type": "stream",
     "text": [
      "[0, 'X']\n",
      "The height of T is 0  and the size of T is 0 .\n",
      "Preorder of T : Tree T is empty\n",
      "Postorder of T: Tree T is empty\n",
      "Inorder of T  : Tree T is empty\n"
     ]
    }
   ],
   "source": [
    "# Simple test from the scratch\n",
    "# initializing a BST\n",
    "T=BinarySearchTree()\n",
    "print(T.array)\n",
    "T.printProperty()\n",
    "T.preorderTraversal()\n",
    "T.postorderTraversal()\n",
    "T.inorderTraversal()"
   ]
  },
  {
   "cell_type": "code",
   "execution_count": 3,
   "metadata": {},
   "outputs": [
    {
     "name": "stdout",
     "output_type": "stream",
     "text": [
      "Key  9 is NOT found\n",
      "None\n",
      "[0, 35]\n",
      "The height of T is 0  and the size of T is 1 .\n",
      "Preorder of T : 35 \n",
      "Postorder of T: 35 \n",
      "Inorder of T  : 35 \n"
     ]
    }
   ],
   "source": [
    "# Simple test\n",
    "print(T.searchKey(9))\n",
    "T.insert(35)\n",
    "print(T.array)\n",
    "T.printProperty()\n",
    "T.preorderTraversal()\n",
    "T.postorderTraversal()\n",
    "T.inorderTraversal()"
   ]
  },
  {
   "cell_type": "code",
   "execution_count": 4,
   "metadata": {},
   "outputs": [
    {
     "name": "stdout",
     "output_type": "stream",
     "text": [
      "[0, 35, 'X', 45, 'X', 'X', 40, 'X', 'X', 'X', 'X', 'X', 'X', 43, 'X', 'X', 'X', 'X', 'X', 'X', 'X', 'X', 'X', 'X', 'X', 'X', 41, 'X', 'X', 'X', 'X', 'X', 'X', 'X', 'X', 'X', 'X', 'X', 'X', 'X', 'X', 'X', 'X', 'X', 'X', 'X', 'X', 'X', 'X', 'X', 'X', 'X', 'X', 42, 'X', 'X', 'X', 'X', 'X', 'X', 'X', 'X', 'X', 'X']\n",
      "The height of T is 5  and the size of T is 6 .\n",
      "Preorder of T : 35 45 40 43 41 42 \n",
      "Postorder of T: 42 41 43 40 45 35 \n",
      "Inorder of T  : 35 40 41 42 43 45 \n"
     ]
    }
   ],
   "source": [
    "# Simple test on insertions\n",
    "T.insert(45)\n",
    "T.insert(40)\n",
    "T.insert(43)\n",
    "T.insert(41)\n",
    "T.insert(42)\n",
    "print(T.array)\n",
    "T.printProperty()\n",
    "T.preorderTraversal()\n",
    "T.postorderTraversal()\n",
    "T.inorderTraversal()"
   ]
  },
  {
   "cell_type": "code",
   "execution_count": 5,
   "metadata": {},
   "outputs": [
    {
     "name": "stdout",
     "output_type": "stream",
     "text": [
      "Key  30 does not exist\n",
      "Key  38 does not exist\n",
      "[0, 35, 'X', 45, 'X', 'X', 41, 'X', 'X', 'X', 'X', 'X', 'X', 43, 'X', 'X', 'X', 'X', 'X', 'X', 'X', 'X', 'X', 'X', 'X', 'X', 42, 'X', 'X', 'X', 'X', 'X']\n",
      "The height of T is 4  and the size of T is 5 .\n",
      "Preorder of T : 35 45 41 43 42 \n",
      "Postorder of T: 42 43 41 45 35 \n",
      "Inorder of T  : 35 41 42 43 45 \n"
     ]
    }
   ],
   "source": [
    "# Simple test on deletions\n",
    "T.delete(30)\n",
    "T.delete(38)\n",
    "T.delete(40)\n",
    "print(T.array)\n",
    "T.printProperty()\n",
    "T.preorderTraversal()\n",
    "T.postorderTraversal()\n",
    "T.inorderTraversal()"
   ]
  }
 ],
 "metadata": {
  "kernelspec": {
   "display_name": "Python 3 (ipykernel)",
   "language": "python",
   "name": "python3"
  },
  "language_info": {
   "codemirror_mode": {
    "name": "ipython",
    "version": 3
   },
   "file_extension": ".py",
   "mimetype": "text/x-python",
   "name": "python",
   "nbconvert_exporter": "python",
   "pygments_lexer": "ipython3",
   "version": "3.9.1"
  }
 },
 "nbformat": 4,
 "nbformat_minor": 4
}
