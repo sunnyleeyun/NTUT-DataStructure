{
 "cells": [
  {
   "cell_type": "markdown",
   "metadata": {},
   "source": [
    "# Data Structures 2021 Fall\n",
    "## Homework 2 \n",
    "## Due: Nov 9, 2021\n",
    "\n",
    "### SID:110054316\n",
    "### Name: 李昀 "
   ]
  },
  {
   "attachments": {
    "image-4.png": {
     "image/png": "[encoded data removed]"
    }
   },
   "cell_type": "markdown",
   "metadata": {},
   "source": [
    "#### Problem 1. \n",
    "Please refer the code shown as below. Give the number of operations (steps) for each statement. Then, sum up these numbers to derive the total number of operations and present this total number using the asymptotic notations.\n",
    "![image-4.png](attachment:image-4.png)"
   ]
  },
  {
   "cell_type": "markdown",
   "metadata": {},
   "source": [
    "#### Answer 1.\n",
    "    1. Number of operations (steps) for each statement:\n",
    "        for i = 1 to p                          <line 1> -> 2 * p + 3\n",
    "        for j = 1 to r                          <line 2> -> (2 * r + 3) * p = 2 * p * r + 3 * p\n",
    "        C[i][j] = 0                             <line 3> -> 3 * r * p = 3 * p * r\n",
    "        for k = 1 to q                          <line 4> -> (2 * q + 3) * r * p = 2 * p * q * r + 3 * p * r\n",
    "        C[i][j] = C[i][j] + A[i][k] * B[k][j]   <line 5> -> 11 * q * r * p = 11 * p * q * r\n",
    "\n",
    "    2. Total number of operations: 13 p * q * r + 8 * p * r + 5 * p + 3\n",
    "\n",
    "    3. Asymptotic notations: O(p * q * r)"
   ]
  },
  {
   "cell_type": "markdown",
   "metadata": {},
   "source": [
    "#### Problem 2. \n",
    "An array $A$ contains $n-1$ unique integers in the range $[0,n-1]$. So, there is one number in this range that is not in $A$. Design an $O(n)$-time algorithm for finding that number. You are only allowed to use $O(1)$ additional space besides the array $A$ itself. Please write your idea first. Then, present your algorithm in pseudo-code and analyze it in time and space."
   ]
  },
  {
   "cell_type": "markdown",
   "metadata": {},
   "source": [
    "    1. (a) Get the sum of (0 ~ n-1) and the sum of array A.\n",
    "       (b) Calculate the difference between the two.\n",
    "    2. Pseudo-code Algorithm\n",
    "        s1 = 0\n",
    "        s2 = 0\n",
    "        for i = 0 to n-1\n",
    "            s1 += i\n",
    "        for i = 0 to n-2\n",
    "            s2 += A[i]\n",
    "        return s1 - s2\n",
    "    3. Complexity \n",
    "        Space: O(1)\n",
    "        Time: O(n)"
   ]
  },
  {
   "attachments": {
    "image.png": {
     "image/png": "[encoded data removed]"
    }
   },
   "cell_type": "markdown",
   "metadata": {},
   "source": [
    "#### Problem 3. \n",
    "Find a Big-O notation in terms of $n$ for the number of times the statement $x=x+1$ is executed in the following segment.\n",
    "![image.png](attachment:image.png)"
   ]
  },
  {
   "cell_type": "markdown",
   "metadata": {},
   "source": [
    "#### Answer 3.\n",
    "    O(n^2)"
   ]
  },
  {
   "cell_type": "markdown",
   "metadata": {},
   "source": [
    "#### Problem 4. \n",
    "Please show the followings:\n",
    "\n",
    "(a) let $x$ and $y$ be real numbers with $0<x<y$. Prove that $n^x$ is O($n^y$), but $n^y$ is not O($n^x$).\n",
    "\n",
    "(b) $\\log_a n$ is O($\\log_b n$) for any real numbers $a>1$ and $b>1$."
   ]
  },
  {
   "cell_type": "markdown",
   "metadata": {},
   "source": [
    "#### Answer 4.\n",
    "![Answer](./a4a.jpg)\n",
    "![Answer](./a4b.jpg)"
   ]
  },
  {
   "cell_type": "markdown",
   "metadata": {},
   "source": [
    "#### Problem 5. \n",
    "Show that $O(max\\{f(n),g(n)\\})=O(f(n)+g(n)).$"
   ]
  },
  {
   "cell_type": "markdown",
   "metadata": {},
   "source": [
    "#### Answer 5.\n",
    "    1. Proof that if s(n) is O(f(n)+g(n)) then s(n) is O(max{f(n), g(n)})\n",
    "        s(n) is O(f(n)+g(n)) if and only if there is an M such that\n",
    "        |s(n)| <= M(f(n)+g(n)) for large enough n, which is equivalent to:\n",
    "        |s(n)| <= M*max{f(n), g(n)} + M*min{f(n), g(n)} for large enough n.\n",
    "\n",
    "        For that same M the following would then also be true.\n",
    "        |s(n)| <= 2M*max{f(n), g(n)} for large enough n.\n",
    "        If we now choose P to be 2M, then we can say we have a P for which:\n",
    "        |s(n)| <= P*max{f(n), g(n)} for large enough n.\n",
    "        which according to the definition of big-O means that\n",
    "        s(n) is O(max{f(n), g(n)})\n",
    "            \n",
    "    2. Proof that if s(n) is O(max{f(n), g(n)}) then s(n) is O(max{f(n), g(n)})O(f(n)+g(n)) \n",
    "        s(n) is O(max{f(n), g(n)}) if and only if there is an P such that\n",
    "        |s(n)| <= P*max{f(n), g(n)} for large enough n.\n",
    "        Because for positive numbers max{f(n), g(n)} < f(n)+g(n), this implies that the following is certainly true:\n",
    "        |s(n)| <= P(f(n) + g(n)) for large enough n.\n",
    "        which according to the definition of big-O means that\n",
    "        s(n) is O(f(n)+g(n))\n",
    "    \n",
    "    3. Conclusion: The above proves that if any function is O(f(n)+g(n)) then it must also be O(max{f(n), g(n)}), and vice versa. \n",
    "        Thus, 𝑂(𝑚𝑎𝑥{𝑓(𝑛),𝑔(𝑛)})=𝑂(𝑓(𝑛)+𝑔(𝑛))."
   ]
  },
  {
   "cell_type": "markdown",
   "metadata": {},
   "source": [
    "#### Problem 6. (Programming Exercise)\n",
    "The ***binomial coefficients*** may be defined by the following recurrence relation, which is the idea of *Pascal's triangle*. \n",
    "\\begin{array}{ll}\n",
    "C(n,0)=1 \\mbox{ and } C(n,n)=1 & \\mbox{for } n \\geq 0 \\\\\n",
    "C(n,k)=C(n-1,k)+C(n-1,k-1)     & \\mbox{for } n > k > 0\n",
    "\\end{array}\n",
    "\n",
    "The top of Pascal's triangle is shown in the following figure.\n",
    "<img src=\"./Pascal_Triangle.png\" alt=\"fishy\" class=\"bg-primary mb-1\" width=\"400px\">"
   ]
  },
  {
   "cell_type": "markdown",
   "metadata": {},
   "source": [
    "(a) Draw the recursion tree for calculating $C(6,4)$."
   ]
  },
  {
   "cell_type": "markdown",
   "metadata": {},
   "source": [
    "![Answer](./a6.jpg)"
   ]
  },
  {
   "cell_type": "markdown",
   "metadata": {},
   "source": [
    "(b) Write a function `PA_r()` using *recursive* function to generate Pascal's triangle in the lower left half of the array."
   ]
  },
  {
   "cell_type": "code",
   "execution_count": 1,
   "metadata": {},
   "outputs": [
    {
     "name": "stdout",
     "output_type": "stream",
     "text": [
      "9\n",
      "[[1], [1, 1], [1, 2, 1], [1, 3, 3, 1], [1, 4, 6, 4, 1], [1, 5, 10, 10, 5, 1], [1, 6, 15, 20, 15, 6, 1], [1, 7, 21, 35, 35, 21, 7, 1], [1, 8, 28, 56, 70, 56, 28, 8, 1], [1, 9, 36, 84, 126, 126, 84, 36, 9, 1]]\n"
     ]
    }
   ],
   "source": [
    "def helper(i, n, r):\n",
    "    if i == n + 1:\n",
    "        return\n",
    "    t = [1]\n",
    "    for j in range(0, i - 1):\n",
    "        t.append(r[i - 1][j + 1] + r[i - 1][j])\n",
    "    t.append(1)\n",
    "    r.append(t)\n",
    "    helper(i + 1, n, r)\n",
    "\n",
    "def PA_r(n):\n",
    "    if n == 0: return [[1]]\n",
    "    if n == 1: return [[1], [1, 1]]\n",
    "    r = [[1], [1, 1]]\n",
    "    helper(2, n, r)\n",
    "    print(r)\n",
    "\n",
    "n = int(input())\n",
    "PA_r(n)"
   ]
  },
  {
   "cell_type": "markdown",
   "metadata": {},
   "source": [
    "(c) As (b), write a *nonrecursive* function `PA_n()` to generate Pascal's triangle in the lower left half of the array."
   ]
  },
  {
   "cell_type": "code",
   "execution_count": 2,
   "metadata": {},
   "outputs": [
    {
     "name": "stdout",
     "output_type": "stream",
     "text": [
      "9\n",
      "[[1], [1, 1], [1, 2, 1], [1, 3, 3, 1], [1, 4, 6, 4, 1], [1, 5, 10, 10, 5, 1], [1, 6, 15, 20, 15, 6, 1], [1, 7, 21, 35, 35, 21, 7, 1], [1, 8, 28, 56, 70, 56, 28, 8, 1], [1, 9, 36, 84, 126, 126, 84, 36, 9, 1]]\n"
     ]
    }
   ],
   "source": [
    "def PA_n(n):\n",
    "    if n == 0: return [1]\n",
    "    if n == 1: return [[1], [1, 1]]\n",
    "    r = [[1], [1, 1]]\n",
    "    for i in range(1, n):\n",
    "        t = [1]\n",
    "        for j in range(0, i):\n",
    "            t.append(r[i][j + 1] + r[i][j])\n",
    "        t.append(1)\n",
    "        r.append(t)\n",
    "    print(r)\n",
    "\n",
    "n = int(input())\n",
    "PA_n(n)"
   ]
  },
  {
   "cell_type": "markdown",
   "metadata": {},
   "source": [
    "(d) Again, write a nonrecursive program `PA_d()` that uses neither an array to calculate each $C(n,k)$ directly."
   ]
  },
  {
   "cell_type": "code",
   "execution_count": 3,
   "metadata": {},
   "outputs": [
    {
     "name": "stdout",
     "output_type": "stream",
     "text": [
      "9\n",
      "[[1], [1, 1], [1, 2, 1], [1, 3, 3, 1], [1, 4, 6, 4, 1], [1, 5, 10, 10, 5, 1], [1, 6, 15, 20, 15, 6, 1], [1, 7, 21, 35, 35, 21, 7, 1], [1, 8, 28, 56, 70, 56, 28, 8, 1], [1, 9, 36, 84, 126, 126, 84, 36, 9, 1]]\n"
     ]
    }
   ],
   "source": [
    "def PA_d(n):\n",
    "    r = []\n",
    "    for i in range(n + 1):\n",
    "        v = 1\n",
    "        nr = i\n",
    "        dr = 1\n",
    "        t = []\n",
    "        for j in range(i + 1):\n",
    "            t.append(v)\n",
    "            v = v * nr // dr\n",
    "            nr -= 1\n",
    "            dr += 1\n",
    "        r.append(t)\n",
    "    print(r)\n",
    "\n",
    "n = int(input())\n",
    "PA_d(n)"
   ]
  },
  {
   "cell_type": "markdown",
   "metadata": {},
   "source": [
    "(e) Please do some experiments by yourself to observe the running time and perform a comparison on these three versions by the execution time. Thus, you need to write a Python program to do the comparison, which will call `PA_r()`, `PA_n()`, and `PA_d()`, respectively. Please see the execution example below. To measure the execution time. Please use Python's `timeit` module to do the measurement."
   ]
  },
  {
   "cell_type": "code",
   "execution_count": 20,
   "metadata": {},
   "outputs": [
    {
     "name": "stdout",
     "output_type": "stream",
     "text": [
      "Running time comparison (10000 times totally):\n",
      "input the degree n: 6\n",
      "Recursive approach: 0.07344571199996608\n",
      "Iterative approach: 0.05119036199994298\n",
      "Directed  approach: 0.08766811199984659\n"
     ]
    }
   ],
   "source": [
    "import timeit as ti\n",
    "\n",
    "def helper(i, n, r):\n",
    "    if i == n + 1:\n",
    "        return\n",
    "    t = [1]\n",
    "    for j in range(0, i - 1):\n",
    "        t.append(r[i - 1][j + 1] + r[i - 1][j])\n",
    "    t.append(1)\n",
    "    r.append(t)\n",
    "    helper(i + 1, n, r)\n",
    "\n",
    "def PA_r(n):\n",
    "    if n == 0: return [[1]]\n",
    "    if n == 1: return [[1], [1, 1]]\n",
    "    r = [[1], [1, 1]]\n",
    "    helper(2, n, r)\n",
    "\n",
    "def PA_n(n):\n",
    "    if n == 0: return [1]\n",
    "    if n == 1: return [[1], [1, 1]]\n",
    "    r = [[1], [1, 1]]\n",
    "    for i in range(1, n):\n",
    "        t = [1]\n",
    "        for j in range(0, i):\n",
    "            t.append(r[i][j + 1] + r[i][j])\n",
    "        t.append(1)\n",
    "        r.append(t)\n",
    "\n",
    "def PA_d(n):\n",
    "    r = []\n",
    "    for i in range(n + 1):\n",
    "        v = 1\n",
    "        nr = i\n",
    "        dr = 1\n",
    "        t = []\n",
    "        for j in range(i + 1):\n",
    "            t.append(v)\n",
    "            v = v * nr // dr\n",
    "            nr -= 1\n",
    "            dr += 1\n",
    "        r.append(t)\n",
    "\n",
    "    \n",
    "print(\"Running time comparison (10000 times totally):\")\n",
    "n = int(input('input the degree n: '))\n",
    "\n",
    "t1 = ti.timeit(stmt=\"PA_r(n);\", setup=\"from __main__ import PA_r, n, helper\", number=10000)\n",
    "print(\"Recursive approach:\", t1)\n",
    "t2 = ti.timeit(stmt=\"PA_n(n);\", setup=\"from __main__ import PA_n, n\", number=10000)\n",
    "print(\"Iterative approach:\", t2)\n",
    "t3 = ti.timeit(stmt=\"PA_d(n);\", setup=\"from __main__ import PA_d, n\", number=10000)\n",
    "print(\"Directed  approach:\", t3)"
   ]
  },
  {
   "cell_type": "markdown",
   "metadata": {},
   "source": [
    "(f) Determine the approximate space and time requirements for each of the algorithms devised in parts (b), (c), and (d)."
   ]
  },
  {
   "cell_type": "markdown",
   "metadata": {},
   "source": [
    "    (b) Space: O(n) ; Time: O(n^2)\n",
    "    (c) Space: O(n) ; Time: O(n^2)\n",
    "    (d) Space: O(n) ; Time: O(n^2)"
   ]
  }
 ],
 "metadata": {
  "kernelspec": {
   "display_name": "Python 3 (ipykernel)",
   "language": "python",
   "name": "python3"
  },
  "language_info": {
   "codemirror_mode": {
    "name": "ipython",
    "version": 3
   },
   "file_extension": ".py",
   "mimetype": "text/x-python",
   "name": "python",
   "nbconvert_exporter": "python",
   "pygments_lexer": "ipython3",
   "version": "3.9.1"
  }
 },
 "nbformat": 4,
 "nbformat_minor": 2
}
